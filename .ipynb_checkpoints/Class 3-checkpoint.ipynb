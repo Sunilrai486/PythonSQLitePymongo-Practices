{
 "cells": [
  {
   "cell_type": "code",
   "execution_count": 1,
   "id": "afb79515",
   "metadata": {},
   "outputs": [],
   "source": [
    "# Importing sqltie\n",
    "import sqlite3"
   ]
  },
  {
   "cell_type": "code",
   "execution_count": 2,
   "id": "d64bdf2b",
   "metadata": {},
   "outputs": [],
   "source": [
    "# Creating the connection object.\n",
    "conn = sqlite3.connect('example.db')"
   ]
  },
  {
   "cell_type": "code",
   "execution_count": 4,
   "id": "1ccf7835",
   "metadata": {},
   "outputs": [],
   "source": [
    "# Creating cursor object to execute the sqlite3 statements.\n",
    "cursor = conn.cursor()"
   ]
  },
  {
   "cell_type": "code",
   "execution_count": 17,
   "id": "bce324be",
   "metadata": {},
   "outputs": [],
   "source": [
    "# Now we can use the cursor to call the execute() method to execute any SQL queries.\n",
    "sql = '''CREATE TABLE EMPLOYEE(\n",
    "    FIRST_NAME CHAR(20) NOT NULL,\n",
    "    LAST_NAME CHAR(20),\n",
    "    AGE INT NOT NULL,\n",
    "    SEX CHAR(1), \n",
    "    INCOME FLOAT\n",
    ")'''"
   ]
  },
  {
   "cell_type": "code",
   "execution_count": 25,
   "id": "a523bddc",
   "metadata": {},
   "outputs": [],
   "source": [
    "# Create table using CREATE TABLE\n",
    "cursor.execute(sql)"
   ]
  },
  {
   "cell_type": "code",
   "execution_count": 26,
   "id": "a9e23977",
   "metadata": {},
   "outputs": [],
   "source": [
    "# Call commit to save changes to the database\n",
    "conn.commit()"
   ]
  },
  {
   "cell_type": "code",
   "execution_count": 31,
   "id": "fd24e81c",
   "metadata": {},
   "outputs": [
    {
     "name": "stdout",
     "output_type": "stream",
     "text": [
      "[(0, 'FIRST_NAME', 'CHAR(20)', 1, None, 0), (1, 'LAST_NAME', 'CHAR(20)', 0, None, 0), (2, 'AGE', 'INT', 1, None, 0), (3, 'SEX', 'CHAR(1)', 0, None, 0), (4, 'INCOME', 'FLOAT', 0, None, 0)]\n"
     ]
    }
   ],
   "source": [
    "# selecting the schema of the employee table\n",
    "data = cursor.execute('PRAGMA table_info(employee)')\n",
    "print(data.fetchall())"
   ]
  },
  {
   "cell_type": "code",
   "execution_count": 122,
   "id": "4e17bf6a",
   "metadata": {},
   "outputs": [],
   "source": [
    "# Insert employees data sent in an array into the employee table\n",
    "def insert_employee(employees):\n",
    "    print(employees)\n",
    "    sql = \"INSERT INTO EMPLOYEE(FIRST_NAME, LAST_NAME, AGE, SEX, INCOME) VALUES \"\n",
    "    for employee in employees:\n",
    "        print(employee)\n",
    "        sql = sql + \"('\" + employee[\"first_name\"] + \"','\" + employee[\"last_name\"]  + \"','\" + employee[\"age\"]  + \"','\" + employee[\"sex\"] + \"','\" + employee[\"income\"] + \"'),\"\n",
    "        print(sql)\n",
    "    sql = sql[:-1]\n",
    "    print(sql)\n",
    "    result = cursor.execute(sql)\n"
   ]
  },
  {
   "cell_type": "code",
   "execution_count": 145,
   "id": "aaf74e7b",
   "metadata": {},
   "outputs": [
    {
     "name": "stdout",
     "output_type": "stream",
     "text": [
      "[{'first_name': 'sunil', 'last_name': 'rai', 'age': '111', 'sex': 'M', 'income': '1000000'}, {'first_name': 'sabnam', 'last_name': 'rai', 'age': '111', 'sex': 'F', 'income': '100000'}]\n",
      "{'first_name': 'sunil', 'last_name': 'rai', 'age': '111', 'sex': 'M', 'income': '1000000'}\n",
      "INSERT INTO EMPLOYEE(FIRST_NAME, LAST_NAME, AGE, SEX, INCOME) VALUES ('sunil','rai','111','M','1000000'),\n",
      "{'first_name': 'sabnam', 'last_name': 'rai', 'age': '111', 'sex': 'F', 'income': '100000'}\n",
      "INSERT INTO EMPLOYEE(FIRST_NAME, LAST_NAME, AGE, SEX, INCOME) VALUES ('sunil','rai','111','M','1000000'),('sabnam','rai','111','F','100000'),\n",
      "INSERT INTO EMPLOYEE(FIRST_NAME, LAST_NAME, AGE, SEX, INCOME) VALUES ('sunil','rai','111','M','1000000'),('sabnam','rai','111','F','100000')\n"
     ]
    },
    {
     "data": {
      "text/plain": [
       "[(2, 24)]"
      ]
     },
     "execution_count": 145,
     "metadata": {},
     "output_type": "execute_result"
    }
   ],
   "source": [
    "# calling insert employee method to insert employee\n",
    "data = insert_employee([{\"first_name\":\"sunil\", \"last_name\":\"rai\", \"age\": \"111\", \"sex\": \"M\", \"income\": \"1000000\"}, {\"first_name\":\"sabnam\", \"last_name\":\"rai\", \"age\": \"111\", \"sex\": \"F\", \"income\": \"100000\"}])\n",
    "\n",
    "# gets all the affected rows and total affected rows.\n",
    "affectedrows = cursor.execute('select changes(),total_changes()')\n",
    "affectedrows.fetchall()"
   ]
  },
  {
   "cell_type": "code",
   "execution_count": 170,
   "id": "c0ac6adf",
   "metadata": {},
   "outputs": [],
   "source": [
    "#fetching employee data from employee table\n",
    "all_employee_data = cursor.execute('SELECT * FROM EMPLOYEE')"
   ]
  },
  {
   "cell_type": "code",
   "execution_count": 142,
   "id": "b0fa8836",
   "metadata": {},
   "outputs": [
    {
     "data": {
      "text/plain": [
       "('sunil', 'rai', 111, 'M', 1000000.0)"
      ]
     },
     "execution_count": 142,
     "metadata": {},
     "output_type": "execute_result"
    }
   ],
   "source": [
    "# retrieves an employee data from the table\n",
    "all_employee_data.fetchone()\n"
   ]
  },
  {
   "cell_type": "code",
   "execution_count": 131,
   "id": "e59177b5",
   "metadata": {},
   "outputs": [],
   "source": [
    "all_employee_data.fetchone()\n"
   ]
  },
  {
   "cell_type": "code",
   "execution_count": 171,
   "id": "47799617",
   "metadata": {},
   "outputs": [
    {
     "data": {
      "text/plain": [
       "[('sunil', 'rai', 'M', 1000000.0),\n",
       " ('sunil', 'rai', 'M', 1000000.0),\n",
       " ('sunil', 'rai', 'M', 1000000.0),\n",
       " ('sunil', 'rai', 'M', 1000000.0),\n",
       " ('sunil', 'rai', 'M', 1000000.0)]"
      ]
     },
     "execution_count": 171,
     "metadata": {},
     "output_type": "execute_result"
    }
   ],
   "source": [
    "#sets the limit while fetching data. default is 1.\n",
    "all_employee_data.fetchmany(5)"
   ]
  },
  {
   "cell_type": "code",
   "execution_count": 168,
   "id": "414a51cb",
   "metadata": {},
   "outputs": [
    {
     "data": {
      "text/plain": [
       "[('sunil', 'rai', 'M', 1000000.0),\n",
       " ('sunil', 'rai', 'M', 1000000.0),\n",
       " ('sunil', 'rai', 'M', 1000000.0),\n",
       " ('sunil', 'rai', 'M', 1000000.0),\n",
       " ('sunil', 'rai', 'M', 1000000.0),\n",
       " ('sunil', 'rai', 'M', 1000000.0),\n",
       " ('sunil', 'rai', 'M', 1000000.0),\n",
       " ('sunil', 'rai', 'M', 1000000.0),\n",
       " ('sabnam', 'rai', 'F', 100000.0),\n",
       " ('sunil', 'rai', 'M', 1000000.0),\n",
       " ('sabnam', 'rai', 'F', 100000.0),\n",
       " ('sunil', 'rai', 'M', 1000000.0),\n",
       " ('sabnam', 'rai', 'F', 100000.0)]"
      ]
     },
     "execution_count": 168,
     "metadata": {},
     "output_type": "execute_result"
    }
   ],
   "source": [
    "# retrieves all the employee data from the table\n",
    "all_employee_data.fetchall()"
   ]
  },
  {
   "cell_type": "code",
   "execution_count": 149,
   "id": "f248354c",
   "metadata": {},
   "outputs": [
    {
     "data": {
      "text/plain": [
       "[('sabnam', 'rai', 111, 'F', 100000.0),\n",
       " ('sabnam', 'rai', 111, 'F', 100000.0),\n",
       " ('sabnam', 'rai', 111, 'F', 100000.0)]"
      ]
     },
     "execution_count": 149,
     "metadata": {},
     "output_type": "execute_result"
    }
   ],
   "source": [
    "#fetching female employee\n",
    "female_employee_data = cursor.execute(\"SELECT * FROM EMPLOYEE WHERE SEX = 'F'\")\n",
    "\n",
    "# retrieves all the female employee data from the table\n",
    "female_employee_data.fetchall()"
   ]
  },
  {
   "cell_type": "code",
   "execution_count": 153,
   "id": "3fd7a150",
   "metadata": {},
   "outputs": [
    {
     "data": {
      "text/plain": [
       "[('sunil', 'rai', 115, 'M', 1000000.0),\n",
       " ('sunils', 'rais', 1115, 'M', 100000.0),\n",
       " ('sunil', 'rai', 115, 'M', 1000000.0),\n",
       " ('sunils', 'rais', 1115, 'M', 100000.0),\n",
       " ('sunil', 'rai', 115, 'M', 1000000.0),\n",
       " ('sunils', 'rais', 1115, 'M', 100000.0),\n",
       " ('sunil', 'rai', 115, 'M', 1000000.0),\n",
       " ('sunils', 'rais', 1115, 'M', 100000.0),\n",
       " ('sunil', 'rai', 115, 'M', 1000000.0),\n",
       " ('sunils', 'rais', 1115, 'M', 100000.0),\n",
       " ('sunil', 'rai', 115, 'M', 1000000.0),\n",
       " ('sunils', 'rais', 1115, 'M', 100000.0),\n",
       " ('sunil', 'rai', 115, 'M', 1000000.0),\n",
       " ('sunils', 'rais', 1115, 'M', 100000.0),\n",
       " ('sunil', 'rai', 115, 'M', 1000000.0),\n",
       " ('sunils', 'rais', 1115, 'M', 100000.0),\n",
       " ('sunil', 'rai', 115, 'M', 1000000.0),\n",
       " ('sunils', 'rais', 1115, 'M', 100000.0),\n",
       " ('sunil', 'rai', 115, 'M', 1000000.0),\n",
       " ('sunil', 'rai', 115, 'M', 1000000.0),\n",
       " ('sunil', 'rai', 115, 'M', 1000000.0)]"
      ]
     },
     "execution_count": 153,
     "metadata": {},
     "output_type": "execute_result"
    }
   ],
   "source": [
    "# updates age by 1 more year in the current age of all male employee.\n",
    "male_employee_data = cursor.execute(\"UPDATE EMPLOYEE SET AGE = AGE + 1 WHERE SEX = 'M'\")\n",
    "\n",
    "# retrieves all the male employee data from the table\n",
    "male_employee_data = cursor.execute(\"SELECT * FROM EMPLOYEE WHERE SEX = 'M'\")\n",
    "male_employee_data.fetchall()"
   ]
  },
  {
   "cell_type": "code",
   "execution_count": 154,
   "id": "a406ef27",
   "metadata": {},
   "outputs": [
    {
     "data": {
      "text/plain": [
       "[('sunil', 'rai', 115, 'M', 1000000.0),\n",
       " ('sunil', 'rai', 115, 'M', 1000000.0),\n",
       " ('sunil', 'rai', 115, 'M', 1000000.0),\n",
       " ('sunil', 'rai', 115, 'M', 1000000.0),\n",
       " ('sunil', 'rai', 115, 'M', 1000000.0),\n",
       " ('sunil', 'rai', 115, 'M', 1000000.0),\n",
       " ('sunil', 'rai', 115, 'M', 1000000.0),\n",
       " ('sunil', 'rai', 115, 'M', 1000000.0),\n",
       " ('sunil', 'rai', 115, 'M', 1000000.0),\n",
       " ('sunil', 'rai', 115, 'M', 1000000.0),\n",
       " ('sabnam', 'rai', 111, 'F', 100000.0),\n",
       " ('sunil', 'rai', 115, 'M', 1000000.0),\n",
       " ('sabnam', 'rai', 111, 'F', 100000.0),\n",
       " ('sunil', 'rai', 115, 'M', 1000000.0),\n",
       " ('sabnam', 'rai', 111, 'F', 100000.0)]"
      ]
     },
     "execution_count": 154,
     "metadata": {},
     "output_type": "execute_result"
    }
   ],
   "source": [
    "# delete employee whose age is greater than 115.\n",
    "cursor.execute(\"DELETE FROM EMPLOYEE WHERE AGE > 115\")\n",
    "\n",
    "\n",
    "# retrieves all the male employee data from the table\n",
    "employee_data = cursor.execute(\"SELECT * FROM EMPLOYEE\")\n",
    "employee_data.fetchall()"
   ]
  },
  {
   "cell_type": "code",
   "execution_count": 157,
   "id": "ed3499e6",
   "metadata": {},
   "outputs": [
    {
     "data": {
      "text/plain": [
       "[('sunil', 'rai', 'M', 1000000.0),\n",
       " ('sunil', 'rai', 'M', 1000000.0),\n",
       " ('sunil', 'rai', 'M', 1000000.0),\n",
       " ('sunil', 'rai', 'M', 1000000.0),\n",
       " ('sunil', 'rai', 'M', 1000000.0),\n",
       " ('sunil', 'rai', 'M', 1000000.0),\n",
       " ('sunil', 'rai', 'M', 1000000.0),\n",
       " ('sunil', 'rai', 'M', 1000000.0),\n",
       " ('sunil', 'rai', 'M', 1000000.0),\n",
       " ('sunil', 'rai', 'M', 1000000.0),\n",
       " ('sabnam', 'rai', 'F', 100000.0),\n",
       " ('sunil', 'rai', 'M', 1000000.0),\n",
       " ('sabnam', 'rai', 'F', 100000.0),\n",
       " ('sunil', 'rai', 'M', 1000000.0),\n",
       " ('sabnam', 'rai', 'F', 100000.0)]"
      ]
     },
     "execution_count": 157,
     "metadata": {},
     "output_type": "execute_result"
    }
   ],
   "source": [
    "# drop age column\n",
    "cursor.execute(\"ALTER TABLE EMPLOYEE DROP COLUMN AGE\")\n",
    "\n",
    "\n",
    "# retrieves all the male employee data from the table\n",
    "employee_data = cursor.execute(\"SELECT * FROM EMPLOYEE\")\n",
    "employee_data.fetchall()"
   ]
  },
  {
   "cell_type": "code",
   "execution_count": 163,
   "id": "a55b9c75",
   "metadata": {},
   "outputs": [],
   "source": [
    "# fetching the data from sql table into dataframe.\n",
    "import pandas as pd\n",
    "df = pd.read_sql('SELECT DISTINCT FIRST_NAME, LAST_NAME, SEX, INCOME FROM EMPLOYEE', conn)"
   ]
  },
  {
   "cell_type": "code",
   "execution_count": 164,
   "id": "196df45b",
   "metadata": {},
   "outputs": [
    {
     "data": {
      "text/html": [
       "<div>\n",
       "<style scoped>\n",
       "    .dataframe tbody tr th:only-of-type {\n",
       "        vertical-align: middle;\n",
       "    }\n",
       "\n",
       "    .dataframe tbody tr th {\n",
       "        vertical-align: top;\n",
       "    }\n",
       "\n",
       "    .dataframe thead th {\n",
       "        text-align: right;\n",
       "    }\n",
       "</style>\n",
       "<table border=\"1\" class=\"dataframe\">\n",
       "  <thead>\n",
       "    <tr style=\"text-align: right;\">\n",
       "      <th></th>\n",
       "      <th>FIRST_NAME</th>\n",
       "      <th>LAST_NAME</th>\n",
       "      <th>SEX</th>\n",
       "      <th>INCOME</th>\n",
       "    </tr>\n",
       "  </thead>\n",
       "  <tbody>\n",
       "    <tr>\n",
       "      <th>0</th>\n",
       "      <td>sunil</td>\n",
       "      <td>rai</td>\n",
       "      <td>M</td>\n",
       "      <td>1000000.0</td>\n",
       "    </tr>\n",
       "    <tr>\n",
       "      <th>1</th>\n",
       "      <td>sabnam</td>\n",
       "      <td>rai</td>\n",
       "      <td>F</td>\n",
       "      <td>100000.0</td>\n",
       "    </tr>\n",
       "  </tbody>\n",
       "</table>\n",
       "</div>"
      ],
      "text/plain": [
       "  FIRST_NAME LAST_NAME SEX     INCOME\n",
       "0      sunil       rai   M  1000000.0\n",
       "1     sabnam       rai   F   100000.0"
      ]
     },
     "execution_count": 164,
     "metadata": {},
     "output_type": "execute_result"
    }
   ],
   "source": [
    "df"
   ]
  },
  {
   "cell_type": "code",
   "execution_count": 172,
   "id": "bdef9d94",
   "metadata": {},
   "outputs": [
    {
     "ename": "ModuleNotFoundError",
     "evalue": "No module named 'pymongo'",
     "output_type": "error",
     "traceback": [
      "\u001b[1;31m---------------------------------------------------------------------------\u001b[0m",
      "\u001b[1;31mModuleNotFoundError\u001b[0m                       Traceback (most recent call last)",
      "\u001b[1;32m~\\AppData\\Local\\Temp\\ipykernel_6712\\3427835669.py\u001b[0m in \u001b[0;36m<module>\u001b[1;34m\u001b[0m\n\u001b[1;32m----> 1\u001b[1;33m \u001b[1;32mimport\u001b[0m \u001b[0mpymongo\u001b[0m\u001b[1;33m\u001b[0m\u001b[1;33m\u001b[0m\u001b[0m\n\u001b[0m",
      "\u001b[1;31mModuleNotFoundError\u001b[0m: No module named 'pymongo'"
     ]
    }
   ],
   "source": [
    "import pymongo\n"
   ]
  },
  {
   "cell_type": "code",
   "execution_count": null,
   "id": "85b70a17",
   "metadata": {},
   "outputs": [],
   "source": []
  }
 ],
 "metadata": {
  "kernelspec": {
   "display_name": "Python 3 (ipykernel)",
   "language": "python",
   "name": "python3"
  },
  "language_info": {
   "codemirror_mode": {
    "name": "ipython",
    "version": 3
   },
   "file_extension": ".py",
   "mimetype": "text/x-python",
   "name": "python",
   "nbconvert_exporter": "python",
   "pygments_lexer": "ipython3",
   "version": "3.9.13"
  }
 },
 "nbformat": 4,
 "nbformat_minor": 5
}
