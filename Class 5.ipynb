{
 "cells": [
  {
   "cell_type": "code",
   "execution_count": 1,
   "id": "aead1132",
   "metadata": {},
   "outputs": [],
   "source": [
    "import pymongo"
   ]
  },
  {
   "cell_type": "code",
   "execution_count": 2,
   "id": "0684ae39",
   "metadata": {},
   "outputs": [],
   "source": [
    "from pymongo import MongoClient"
   ]
  },
  {
   "cell_type": "code",
   "execution_count": 3,
   "id": "1e502267",
   "metadata": {},
   "outputs": [],
   "source": [
    "client = MongoClient()"
   ]
  },
  {
   "cell_type": "code",
   "execution_count": 9,
   "id": "012dfcdf",
   "metadata": {},
   "outputs": [],
   "source": [
    "testdb = client.test"
   ]
  },
  {
   "cell_type": "code",
   "execution_count": 10,
   "id": "683bcf20",
   "metadata": {},
   "outputs": [
    {
     "name": "stdout",
     "output_type": "stream",
     "text": [
      "['employee']\n"
     ]
    }
   ],
   "source": [
    "print(testdb.list_collection_names())"
   ]
  },
  {
   "cell_type": "code",
   "execution_count": 137,
   "id": "8007a190",
   "metadata": {},
   "outputs": [],
   "source": [
    "employee = testdb.employee"
   ]
  },
  {
   "cell_type": "code",
   "execution_count": 26,
   "id": "d3adc98f",
   "metadata": {},
   "outputs": [
    {
     "data": {
      "text/plain": [
       "{'_id': ObjectId('64769642d2772f2cc7b32233'),\n",
       " 'Name': 'Sunil Rai',\n",
       " 'Address': 'Scarborough',\n",
       " 'Age': '11'}"
      ]
     },
     "execution_count": 26,
     "metadata": {},
     "output_type": "execute_result"
    }
   ],
   "source": [
    "employee.find_one()"
   ]
  },
  {
   "cell_type": "code",
   "execution_count": 27,
   "id": "40686fd9",
   "metadata": {},
   "outputs": [
    {
     "name": "stdout",
     "output_type": "stream",
     "text": [
      "{'_id': ObjectId('64769642d2772f2cc7b32233'), 'Name': 'Sunil Rai', 'Address': 'Scarborough', 'Age': '11'}\n",
      "{'_id': 1, 'name': 'John', 'address': 'Highway 37'}\n",
      "{'_id': 2, 'name': 'Peter', 'address': 'Lowstreet 27'}\n",
      "{'_id': 3, 'name': 'Amy', 'address': 'Close st 652'}\n",
      "{'_id': 4, 'name': 'Hannah', 'address': 'Mountain 21'}\n",
      "{'_id': 5, 'name': 'Michael', 'address': 'Valley 345'}\n",
      "{'_id': 6, 'name': 'Vicky', 'address': 'Yellow Garden 124'}\n",
      "{'_id': 7, 'name': 'Nicky', 'address': 'Yellow Garden 23'}\n",
      "{'_id': 8, 'name': 'Nancy', 'address': 'Younge Ave. 123'}\n",
      "{'_id': 9, 'name': 'Viola', 'address': 'Sideway Ave'}\n",
      "{'_id': 10, 'name': 'Johny', 'address': 'Highway 37'}\n",
      "{'_id': 11, 'name': 'Johna', 'address': 'Highway 37'}\n",
      "{'_id': 12, 'name': 'Johne', 'address': 'Highway 37'}\n"
     ]
    }
   ],
   "source": [
    "for emp in employee.find():\n",
    "    print(emp)"
   ]
  },
  {
   "cell_type": "code",
   "execution_count": 31,
   "id": "7021aa5b",
   "metadata": {},
   "outputs": [
    {
     "name": "stdout",
     "output_type": "stream",
     "text": [
      "13\n"
     ]
    }
   ],
   "source": [
    "print(test.get_collection(\"employee\").estimated_document_count())"
   ]
  },
  {
   "cell_type": "code",
   "execution_count": 33,
   "id": "2aa1d604",
   "metadata": {},
   "outputs": [
    {
     "name": "stdout",
     "output_type": "stream",
     "text": [
      "{}\n",
      "{'name': 'John', 'address': 'Highway 37'}\n",
      "{'name': 'Peter', 'address': 'Lowstreet 27'}\n",
      "{'name': 'Amy', 'address': 'Close st 652'}\n",
      "{'name': 'Hannah', 'address': 'Mountain 21'}\n",
      "{'name': 'Michael', 'address': 'Valley 345'}\n",
      "{'name': 'Vicky', 'address': 'Yellow Garden 124'}\n",
      "{'name': 'Nicky', 'address': 'Yellow Garden 23'}\n",
      "{'name': 'Nancy', 'address': 'Younge Ave. 123'}\n",
      "{'name': 'Viola', 'address': 'Sideway Ave'}\n",
      "{'name': 'Johny', 'address': 'Highway 37'}\n",
      "{'name': 'Johna', 'address': 'Highway 37'}\n",
      "{'name': 'Johne', 'address': 'Highway 37'}\n"
     ]
    }
   ],
   "source": [
    "for emp in employee.find({}, {\"_id\":0, \"name\":1, \"address\": 1}):\n",
    "    print(emp)"
   ]
  },
  {
   "cell_type": "code",
   "execution_count": 37,
   "id": "317e7ca7",
   "metadata": {},
   "outputs": [
    {
     "name": "stdout",
     "output_type": "stream",
     "text": [
      "{'_id': 4, 'name': 'Hannah', 'address': 'Mountain 21'}\n"
     ]
    }
   ],
   "source": [
    "myQuery = { \"address\": \"Mountain 21\"}\n",
    "mydoc = employee.find(myQuery)\n",
    "\n",
    "for emp in mydoc:\n",
    "    print(emp)"
   ]
  },
  {
   "cell_type": "code",
   "execution_count": 38,
   "id": "e4c1051f",
   "metadata": {},
   "outputs": [],
   "source": [
    "mySecondQuery = {\"name\": \"amy\"}\n",
    "myseconddoc = employee.find(mySecondQuery)\n",
    "for emp in myseconddoc:\n",
    "    print(emp)"
   ]
  },
  {
   "cell_type": "code",
   "execution_count": 39,
   "id": "364ffe7d",
   "metadata": {},
   "outputs": [
    {
     "name": "stdout",
     "output_type": "stream",
     "text": [
      "{'_id': 3, 'name': 'Amy', 'address': 'Close st 652'}\n"
     ]
    }
   ],
   "source": [
    "mySecondQuery = {\"name\": \"Amy\"}\n",
    "myseconddoc = employee.find(mySecondQuery)\n",
    "for emp in myseconddoc:\n",
    "    print(emp)"
   ]
  },
  {
   "cell_type": "code",
   "execution_count": 43,
   "id": "5e43fc63",
   "metadata": {},
   "outputs": [
    {
     "name": "stdout",
     "output_type": "stream",
     "text": [
      "{'_id': 6, 'name': 'Vicky', 'address': 'Yellow Garden 124'}\n",
      "{'_id': 7, 'name': 'Nicky', 'address': 'Yellow Garden 23'}\n"
     ]
    }
   ],
   "source": [
    "myThirdQuery = {\"address\": {\"$regex\": \"^Y\"}}\n",
    "mythirddoc = employee.find(myThirdQuery).limit(2)\n",
    "for emp in mythirddoc:\n",
    "    print(emp)"
   ]
  },
  {
   "cell_type": "code",
   "execution_count": 52,
   "id": "6750adac",
   "metadata": {},
   "outputs": [
    {
     "name": "stdout",
     "output_type": "stream",
     "text": [
      "{'_id': 6, 'name': 'Vicky', 'address': 'Yellow Garden 124'}\n",
      "{'_id': 7, 'name': 'Nicky', 'address': 'Yellow Garden 23'}\n",
      "{'_id': 8, 'name': 'Nancy', 'address': 'Younge Ave. 123'}\n",
      "{'_id': 9, 'name': 'Viola', 'address': 'Sideway Ave'}\n"
     ]
    }
   ],
   "source": [
    "myFourthQuery = {\"$or\":[{\"address\": {\"$regex\": \"^Y\"}}, {\"address\": {\"$regex\": \"^S\"}}]}\n",
    "myfourthdoc = employee.find(myFourthQuery)\n",
    "for emp in myfourthdoc:\n",
    "    print(emp)"
   ]
  },
  {
   "cell_type": "code",
   "execution_count": 66,
   "id": "d1231ffc",
   "metadata": {},
   "outputs": [
    {
     "name": "stdout",
     "output_type": "stream",
     "text": [
      "{'_id': 2, 'name': 'Peter', 'address': 'Lowstreet 27'}\n",
      "{'_id': 3, 'name': 'Amy', 'address': 'Close st 652'}\n",
      "{'_id': 4, 'name': 'Hannah', 'address': 'Mountain 21'}\n",
      "{'_id': 6, 'name': 'Vicky', 'address': 'Yellow Garden 124'}\n",
      "{'_id': 7, 'name': 'Nicky', 'address': 'Yellow Garden 23'}\n",
      "{'_id': 8, 'name': 'Nancy', 'address': 'Younge Ave. 123'}\n",
      "{'_id': 9, 'name': 'Viola', 'address': 'Sideway Ave'}\n"
     ]
    }
   ],
   "source": [
    "myFifthQuery = {\"$or\":[{\"address\": {\"$regex\": \"^S\"}}, {\"address\": {\"$regex\": \"^S\"}}, {\"address\": {\"$regex\": r\"\\b\\w*o\\w*\\b\"}}]}\n",
    "myfifthdoc = employee.find(myFifthQuery)\n",
    "for emp in myfifthdoc:\n",
    "    print(emp)"
   ]
  },
  {
   "cell_type": "code",
   "execution_count": 80,
   "id": "7350d9a3",
   "metadata": {},
   "outputs": [
    {
     "name": "stdout",
     "output_type": "stream",
     "text": [
      "{'_id': 6, 'name': 'Vicky', 'address': 'Yellow Garden 124'}\n",
      "{'_id': 8, 'name': 'Nancy', 'address': 'Younge Ave. 123'}\n"
     ]
    }
   ],
   "source": [
    "mySixthQuery = {\"$and\":[{\"address\": {\"$regex\": \"^Y\"}}, {\"address\": {\"$regex\": \"1\"}}]}\n",
    "mysixthdoc = employee.find(mySixthQuery)\n",
    "for emp in mysixthdoc:\n",
    "    print(emp)"
   ]
  },
  {
   "cell_type": "code",
   "execution_count": 81,
   "id": "6faded42",
   "metadata": {},
   "outputs": [
    {
     "name": "stdout",
     "output_type": "stream",
     "text": [
      "{'_id': 8, 'name': 'Nancy', 'address': 'Younge Ave. 123'}\n"
     ]
    }
   ],
   "source": [
    "mySeventhQuery = {\"$and\":[{\"address\": {\"$regex\": \"^Y\"}}, {\"address\": {\"$regex\": \"1\"}}, {\"name\": {\"$regex\": \"^N\"}}]}\n",
    "myseventhdoc = employee.find(mySeventhQuery)\n",
    "for emp in myseventhdoc:\n",
    "    print(emp)"
   ]
  },
  {
   "cell_type": "code",
   "execution_count": 83,
   "id": "b0a0e615",
   "metadata": {},
   "outputs": [
    {
     "name": "stdout",
     "output_type": "stream",
     "text": [
      "{'_id': 6, 'name': 'Vicky', 'address': 'Yellow Garden 124'}\n",
      "{'_id': 8, 'name': 'Nancy', 'address': 'Younge Ave. 123'}\n"
     ]
    }
   ],
   "source": [
    "myEighthQuery = {\"$and\":[{\"address\": {\"$regex\": \"^Y\"}}, {\"address\": {\"$regex\": \"1\"}}, {\"name\": {\"$ne\": \"Nicky\"}}]}\n",
    "myeighthdoc = employee.find(myEighthQuery)\n",
    "for emp in myeighthdoc:\n",
    "    print(emp)"
   ]
  },
  {
   "cell_type": "code",
   "execution_count": 86,
   "id": "1a17eb89",
   "metadata": {},
   "outputs": [
    {
     "name": "stdout",
     "output_type": "stream",
     "text": [
      "{'_id': 6, 'name': 'Vicky', 'address': 'Yellow Garden 124'}\n"
     ]
    }
   ],
   "source": [
    "myNinththQuery = {\"$and\":[{\"address\": {\"$regex\": \"^Y\"}}, {\"address\": {\"$regex\": \"1\"}}, {\"name\": {\"$ne\": \"Nancy\"}}]}\n",
    "myninthdoc = employee.find(myNinththQuery)\n",
    "for emp in myninthdoc:\n",
    "    print(emp)"
   ]
  },
  {
   "cell_type": "code",
   "execution_count": 91,
   "id": "710734dc",
   "metadata": {},
   "outputs": [
    {
     "name": "stdout",
     "output_type": "stream",
     "text": [
      "{'_id': 5, 'name': 'Michael', 'address': 'Valley 345'}\n",
      "{'_id': 6, 'name': 'Vicky', 'address': 'Yellow Garden 124'}\n",
      "{'_id': 7, 'name': 'Nicky', 'address': 'Yellow Garden 23'}\n",
      "{'_id': 8, 'name': 'Nancy', 'address': 'Younge Ave. 123'}\n",
      "{'_id': 9, 'name': 'Viola', 'address': 'Sideway Ave'}\n"
     ]
    }
   ],
   "source": [
    "myTenthQuery = {\"address\": {\"$gt\": \"S\"}}\n",
    "mytenthdoc = employee.find(myTenthQuery)\n",
    "for emp in mytenthdoc:\n",
    "    print(emp)"
   ]
  },
  {
   "cell_type": "code",
   "execution_count": 93,
   "id": "afa1ddbb",
   "metadata": {},
   "outputs": [
    {
     "name": "stdout",
     "output_type": "stream",
     "text": [
      "{'_id': 1, 'name': 'John', 'address': 'Highway 37'}\n",
      "{'_id': 2, 'name': 'Peter', 'address': 'Lowstreet 27'}\n",
      "{'_id': 3, 'name': 'Amy', 'address': 'Close st 652'}\n",
      "{'_id': 4, 'name': 'Hannah', 'address': 'Mountain 21'}\n",
      "{'_id': 5, 'name': 'Michael', 'address': 'Valley 345'}\n",
      "{'_id': 6, 'name': 'Vicky', 'address': 'Yellow Garden 124'}\n",
      "{'_id': 7, 'name': 'Nicky', 'address': 'Yellow Garden 23'}\n",
      "{'_id': 8, 'name': 'Nancy', 'address': 'Younge Ave. 123'}\n",
      "{'_id': 9, 'name': 'Viola', 'address': 'Sideway Ave'}\n",
      "{'_id': 10, 'name': 'Johny', 'address': 'Highway 37'}\n",
      "{'_id': 11, 'name': 'Johna', 'address': 'Highway 37'}\n",
      "{'_id': 12, 'name': 'Johne', 'address': 'Highway 37'}\n"
     ]
    }
   ],
   "source": [
    "myTenthQuery2 = {\"address\": {\"$gt\": \"A\"}}\n",
    "mytenthdoc2 = employee.find(myTenthQuery2)\n",
    "for emp in mytenthdoc2:\n",
    "    print(emp)"
   ]
  },
  {
   "cell_type": "code",
   "execution_count": 96,
   "id": "68d38630",
   "metadata": {},
   "outputs": [
    {
     "name": "stdout",
     "output_type": "stream",
     "text": [
      "{'_id': ObjectId('64769642d2772f2cc7b32233'), 'Name': 'Sunil Rai', 'Address': 'Scarborough', 'Age': '11'}\n",
      "{'_id': 3, 'name': 'Amy', 'address': 'Close st 652'}\n",
      "{'_id': 1, 'name': 'John', 'address': 'Highway 37'}\n",
      "{'_id': 10, 'name': 'Johny', 'address': 'Highway 37'}\n",
      "{'_id': 11, 'name': 'Johna', 'address': 'Highway 37'}\n",
      "{'_id': 12, 'name': 'Johne', 'address': 'Highway 37'}\n",
      "{'_id': 2, 'name': 'Peter', 'address': 'Lowstreet 27'}\n",
      "{'_id': 4, 'name': 'Hannah', 'address': 'Mountain 21'}\n",
      "{'_id': 9, 'name': 'Viola', 'address': 'Sideway Ave'}\n",
      "{'_id': 5, 'name': 'Michael', 'address': 'Valley 345'}\n",
      "{'_id': 6, 'name': 'Vicky', 'address': 'Yellow Garden 124'}\n",
      "{'_id': 7, 'name': 'Nicky', 'address': 'Yellow Garden 23'}\n",
      "{'_id': 8, 'name': 'Nancy', 'address': 'Younge Ave. 123'}\n"
     ]
    }
   ],
   "source": [
    "mydoc = employee.find().sort(\"address\")\n",
    "for emp in mydoc:\n",
    "    print(emp)"
   ]
  },
  {
   "cell_type": "code",
   "execution_count": 97,
   "id": "b33f74dc",
   "metadata": {},
   "outputs": [
    {
     "name": "stdout",
     "output_type": "stream",
     "text": [
      "{'_id': ObjectId('64769642d2772f2cc7b32233'), 'Name': 'Sunil Rai', 'Address': 'Scarborough', 'Age': '11'}\n",
      "{'_id': 3, 'name': 'Amy', 'address': 'Close st 652'}\n",
      "{'_id': 1, 'name': 'John', 'address': 'Highway 37'}\n",
      "{'_id': 10, 'name': 'Johny', 'address': 'Highway 37'}\n",
      "{'_id': 11, 'name': 'Johna', 'address': 'Highway 37'}\n",
      "{'_id': 12, 'name': 'Johne', 'address': 'Highway 37'}\n",
      "{'_id': 2, 'name': 'Peter', 'address': 'Lowstreet 27'}\n",
      "{'_id': 4, 'name': 'Hannah', 'address': 'Mountain 21'}\n",
      "{'_id': 9, 'name': 'Viola', 'address': 'Sideway Ave'}\n",
      "{'_id': 5, 'name': 'Michael', 'address': 'Valley 345'}\n",
      "{'_id': 6, 'name': 'Vicky', 'address': 'Yellow Garden 124'}\n",
      "{'_id': 7, 'name': 'Nicky', 'address': 'Yellow Garden 23'}\n",
      "{'_id': 8, 'name': 'Nancy', 'address': 'Younge Ave. 123'}\n"
     ]
    }
   ],
   "source": [
    "mydoc = employee.find().sort(\"address\", 1)\n",
    "for emp in mydoc:\n",
    "    print(emp)"
   ]
  },
  {
   "cell_type": "code",
   "execution_count": 98,
   "id": "05f78867",
   "metadata": {},
   "outputs": [
    {
     "name": "stdout",
     "output_type": "stream",
     "text": [
      "{'_id': 8, 'name': 'Nancy', 'address': 'Younge Ave. 123'}\n",
      "{'_id': 7, 'name': 'Nicky', 'address': 'Yellow Garden 23'}\n",
      "{'_id': 6, 'name': 'Vicky', 'address': 'Yellow Garden 124'}\n",
      "{'_id': 5, 'name': 'Michael', 'address': 'Valley 345'}\n",
      "{'_id': 9, 'name': 'Viola', 'address': 'Sideway Ave'}\n",
      "{'_id': 4, 'name': 'Hannah', 'address': 'Mountain 21'}\n",
      "{'_id': 2, 'name': 'Peter', 'address': 'Lowstreet 27'}\n",
      "{'_id': 1, 'name': 'John', 'address': 'Highway 37'}\n",
      "{'_id': 10, 'name': 'Johny', 'address': 'Highway 37'}\n",
      "{'_id': 11, 'name': 'Johna', 'address': 'Highway 37'}\n",
      "{'_id': 12, 'name': 'Johne', 'address': 'Highway 37'}\n",
      "{'_id': 3, 'name': 'Amy', 'address': 'Close st 652'}\n",
      "{'_id': ObjectId('64769642d2772f2cc7b32233'), 'Name': 'Sunil Rai', 'Address': 'Scarborough', 'Age': '11'}\n"
     ]
    }
   ],
   "source": [
    "mydoc = employee.find().sort(\"address\", -1)\n",
    "for emp in mydoc:\n",
    "    print(emp)"
   ]
  },
  {
   "cell_type": "code",
   "execution_count": 100,
   "id": "91cd5f65",
   "metadata": {},
   "outputs": [
    {
     "name": "stdout",
     "output_type": "stream",
     "text": [
      "{'_id': ObjectId('64769642d2772f2cc7b32233'), 'Name': 'Sunil Rai', 'Address': 'Scarborough', 'Age': '11'}\n",
      "{'_id': 1, 'name': 'John', 'address': 'Highway 37'}\n",
      "{'_id': 2, 'name': 'Peter', 'address': 'Lowstreet 27'}\n",
      "{'_id': 3, 'name': 'Amy', 'address': 'Close st 652'}\n",
      "{'_id': 4, 'name': 'Hannah', 'address': 'Mountain 21'}\n",
      "{'_id': 5, 'name': 'Michael', 'address': 'Valley 345'}\n",
      "{'_id': 6, 'name': 'Vicky', 'address': 'Yellow Garden 124'}\n",
      "{'_id': 7, 'name': 'Nicky', 'address': 'Yellow Garden 23'}\n",
      "{'_id': 8, 'name': 'Nancy', 'address': 'Younge Ave. 123'}\n",
      "{'_id': 9, 'name': 'Viola', 'address': 'Sideway Ave'}\n",
      "{'_id': 10, 'name': 'Johny', 'address': 'Highway 37'}\n",
      "{'_id': 11, 'name': 'Johna', 'address': 'Highway 37'}\n",
      "{'_id': 12, 'name': 'Johne', 'address': 'Highway 37'}\n"
     ]
    }
   ],
   "source": [
    "for emp in employee.find():\n",
    "    print(emp)"
   ]
  },
  {
   "cell_type": "code",
   "execution_count": 101,
   "id": "a43047db",
   "metadata": {},
   "outputs": [
    {
     "data": {
      "text/plain": [
       "<pymongo.results.UpdateResult at 0x29e6e383370>"
      ]
     },
     "execution_count": 101,
     "metadata": {},
     "output_type": "execute_result"
    }
   ],
   "source": [
    "myquery = {'address': 'Valley 345'}\n",
    "newvalues = {\"$set\": {\"address\": \"Canyon 123\"}}\n",
    "\n",
    "employee.update_one(myquery, newvalues)"
   ]
  },
  {
   "cell_type": "code",
   "execution_count": 102,
   "id": "f20c1f77",
   "metadata": {},
   "outputs": [
    {
     "name": "stdout",
     "output_type": "stream",
     "text": [
      "{'_id': ObjectId('64769642d2772f2cc7b32233'), 'Name': 'Sunil Rai', 'Address': 'Scarborough', 'Age': '11'}\n",
      "{'_id': 1, 'name': 'John', 'address': 'Highway 37'}\n",
      "{'_id': 2, 'name': 'Peter', 'address': 'Lowstreet 27'}\n",
      "{'_id': 3, 'name': 'Amy', 'address': 'Close st 652'}\n",
      "{'_id': 4, 'name': 'Hannah', 'address': 'Mountain 21'}\n",
      "{'_id': 5, 'name': 'Michael', 'address': 'Canyon 123'}\n",
      "{'_id': 6, 'name': 'Vicky', 'address': 'Yellow Garden 124'}\n",
      "{'_id': 7, 'name': 'Nicky', 'address': 'Yellow Garden 23'}\n",
      "{'_id': 8, 'name': 'Nancy', 'address': 'Younge Ave. 123'}\n",
      "{'_id': 9, 'name': 'Viola', 'address': 'Sideway Ave'}\n",
      "{'_id': 10, 'name': 'Johny', 'address': 'Highway 37'}\n",
      "{'_id': 11, 'name': 'Johna', 'address': 'Highway 37'}\n",
      "{'_id': 12, 'name': 'Johne', 'address': 'Highway 37'}\n"
     ]
    }
   ],
   "source": [
    "for emp in employee.find():\n",
    "    print(emp)"
   ]
  },
  {
   "cell_type": "code",
   "execution_count": 103,
   "id": "b4cc39a5",
   "metadata": {},
   "outputs": [
    {
     "data": {
      "text/plain": [
       "<pymongo.results.UpdateResult at 0x29e6e383a00>"
      ]
     },
     "execution_count": 103,
     "metadata": {},
     "output_type": "execute_result"
    }
   ],
   "source": [
    "myquery = {'address': 'Highway 37'}\n",
    "newvalues = {\"$set\": {\"address\": \"Canyon 1379\"}}\n",
    "\n",
    "employee.update_one(myquery, newvalues)"
   ]
  },
  {
   "cell_type": "code",
   "execution_count": 104,
   "id": "228661fb",
   "metadata": {},
   "outputs": [
    {
     "name": "stdout",
     "output_type": "stream",
     "text": [
      "{'_id': ObjectId('64769642d2772f2cc7b32233'), 'Name': 'Sunil Rai', 'Address': 'Scarborough', 'Age': '11'}\n",
      "{'_id': 1, 'name': 'John', 'address': 'Canyon 1379'}\n",
      "{'_id': 2, 'name': 'Peter', 'address': 'Lowstreet 27'}\n",
      "{'_id': 3, 'name': 'Amy', 'address': 'Close st 652'}\n",
      "{'_id': 4, 'name': 'Hannah', 'address': 'Mountain 21'}\n",
      "{'_id': 5, 'name': 'Michael', 'address': 'Canyon 123'}\n",
      "{'_id': 6, 'name': 'Vicky', 'address': 'Yellow Garden 124'}\n",
      "{'_id': 7, 'name': 'Nicky', 'address': 'Yellow Garden 23'}\n",
      "{'_id': 8, 'name': 'Nancy', 'address': 'Younge Ave. 123'}\n",
      "{'_id': 9, 'name': 'Viola', 'address': 'Sideway Ave'}\n",
      "{'_id': 10, 'name': 'Johny', 'address': 'Highway 37'}\n",
      "{'_id': 11, 'name': 'Johna', 'address': 'Highway 37'}\n",
      "{'_id': 12, 'name': 'Johne', 'address': 'Highway 37'}\n"
     ]
    }
   ],
   "source": [
    "for emp in employee.find():\n",
    "    print(emp)"
   ]
  },
  {
   "cell_type": "code",
   "execution_count": 105,
   "id": "7bb109a9",
   "metadata": {},
   "outputs": [
    {
     "data": {
      "text/plain": [
       "<pymongo.results.UpdateResult at 0x29e6de12490>"
      ]
     },
     "execution_count": 105,
     "metadata": {},
     "output_type": "execute_result"
    }
   ],
   "source": [
    "myquery = {'address': 'Highway 37'}\n",
    "newvalues = {\"$set\": {\"address\": \"Canon 110\"}}\n",
    "\n",
    "employee.update_many(myquery, newvalues)"
   ]
  },
  {
   "cell_type": "code",
   "execution_count": 106,
   "id": "91535888",
   "metadata": {},
   "outputs": [
    {
     "name": "stdout",
     "output_type": "stream",
     "text": [
      "{'_id': ObjectId('64769642d2772f2cc7b32233'), 'Name': 'Sunil Rai', 'Address': 'Scarborough', 'Age': '11'}\n",
      "{'_id': 1, 'name': 'John', 'address': 'Canyon 1379'}\n",
      "{'_id': 2, 'name': 'Peter', 'address': 'Lowstreet 27'}\n",
      "{'_id': 3, 'name': 'Amy', 'address': 'Close st 652'}\n",
      "{'_id': 4, 'name': 'Hannah', 'address': 'Mountain 21'}\n",
      "{'_id': 5, 'name': 'Michael', 'address': 'Canyon 123'}\n",
      "{'_id': 6, 'name': 'Vicky', 'address': 'Yellow Garden 124'}\n",
      "{'_id': 7, 'name': 'Nicky', 'address': 'Yellow Garden 23'}\n",
      "{'_id': 8, 'name': 'Nancy', 'address': 'Younge Ave. 123'}\n",
      "{'_id': 9, 'name': 'Viola', 'address': 'Sideway Ave'}\n",
      "{'_id': 10, 'name': 'Johny', 'address': 'Canon 110'}\n",
      "{'_id': 11, 'name': 'Johna', 'address': 'Canon 110'}\n",
      "{'_id': 12, 'name': 'Johne', 'address': 'Canon 110'}\n"
     ]
    }
   ],
   "source": [
    "for emp in employee.find():\n",
    "    print(emp)"
   ]
  },
  {
   "cell_type": "code",
   "execution_count": 112,
   "id": "976ccc83",
   "metadata": {},
   "outputs": [
    {
     "name": "stdout",
     "output_type": "stream",
     "text": [
      "0 documents updated\n"
     ]
    }
   ],
   "source": [
    "myquery = {'address': 'Canon 110'}\n",
    "newvalues = {\"$set\": {\"address\": \"1 Flora Drive\", \"name\": \"Sunil\"}}\n",
    "\n",
    "result = employee.update_many(myquery, newvalues)\n",
    "\n",
    "print(result.modified_count, \"documents updated\")"
   ]
  },
  {
   "cell_type": "code",
   "execution_count": 111,
   "id": "d764ace0",
   "metadata": {},
   "outputs": [
    {
     "name": "stdout",
     "output_type": "stream",
     "text": [
      "{'_id': ObjectId('64769642d2772f2cc7b32233'), 'Name': 'Sunil Rai', 'Address': 'Scarborough', 'Age': '11'}\n",
      "{'_id': 1, 'name': 'John', 'address': 'Canyon 1379'}\n",
      "{'_id': 2, 'name': 'Peter', 'address': 'Lowstreet 27'}\n",
      "{'_id': 3, 'name': 'Amy', 'address': 'Close st 652'}\n",
      "{'_id': 4, 'name': 'Hannah', 'address': 'Mountain 21'}\n",
      "{'_id': 5, 'name': 'Michael', 'address': 'Canyon 123'}\n",
      "{'_id': 6, 'name': 'Vicky', 'address': 'Yellow Garden 124'}\n",
      "{'_id': 7, 'name': 'Nicky', 'address': 'Yellow Garden 23'}\n",
      "{'_id': 8, 'name': 'Nancy', 'address': 'Younge Ave. 123'}\n",
      "{'_id': 9, 'name': 'Viola', 'address': 'Sideway Ave'}\n",
      "{'_id': 10, 'name': 'Sunil', 'address': '1 Flora Drive'}\n",
      "{'_id': 11, 'name': 'Sunil', 'address': '1 Flora Drive'}\n",
      "{'_id': 12, 'name': 'Sunil', 'address': '1 Flora Drive'}\n"
     ]
    }
   ],
   "source": [
    "for emp in employee.find():\n",
    "    print(emp)"
   ]
  },
  {
   "cell_type": "code",
   "execution_count": 115,
   "id": "3e0e71c0",
   "metadata": {},
   "outputs": [
    {
     "name": "stdout",
     "output_type": "stream",
     "text": [
      "1 documents updated\n"
     ]
    }
   ],
   "source": [
    "myquery = {'address': 'Younge Ave. 123'}\n",
    "\n",
    "result = employee.delete_one(myquery)\n",
    "\n",
    "print(result.deleted_count, \"documents updated\")"
   ]
  },
  {
   "cell_type": "code",
   "execution_count": 116,
   "id": "7ea7e0cf",
   "metadata": {},
   "outputs": [
    {
     "name": "stdout",
     "output_type": "stream",
     "text": [
      "3 documents updated\n"
     ]
    }
   ],
   "source": [
    "myquery = {'address': '1 Flora Drive'}\n",
    "\n",
    "result = employee.delete_many(myquery)\n",
    "\n",
    "print(result.deleted_count, \"documents updated\")"
   ]
  },
  {
   "cell_type": "code",
   "execution_count": 117,
   "id": "b64847ae",
   "metadata": {},
   "outputs": [
    {
     "name": "stdout",
     "output_type": "stream",
     "text": [
      "2 documents updated\n"
     ]
    }
   ],
   "source": [
    "myquery = {'address': {\"$regex\":\"^Y\"}}\n",
    "\n",
    "result = employee.delete_many(myquery)\n",
    "\n",
    "print(result.deleted_count, \"documents updated\")"
   ]
  },
  {
   "cell_type": "code",
   "execution_count": 126,
   "id": "a6230a97",
   "metadata": {},
   "outputs": [],
   "source": [
    "result = employee.update_many({}, {\"$unset\":{\"address\": \"\"}})"
   ]
  },
  {
   "cell_type": "code",
   "execution_count": 129,
   "id": "c21de72c",
   "metadata": {},
   "outputs": [
    {
     "name": "stdout",
     "output_type": "stream",
     "text": [
      "{'_id': ObjectId('64769642d2772f2cc7b32233'), 'Name': 'Sunil Rai', 'Address': 'Scarborough', 'Age': '11'}\n",
      "{'_id': 2, 'name': 'Peter'}\n",
      "{'_id': 3, 'name': 'Amy'}\n",
      "{'_id': 4, 'name': 'Hannah'}\n",
      "{'_id': 5, 'name': 'Michael'}\n",
      "{'_id': 9, 'name': 'Viola'}\n"
     ]
    }
   ],
   "source": [
    "for emp in employee.find():\n",
    "    print(emp)"
   ]
  },
  {
   "cell_type": "code",
   "execution_count": 132,
   "id": "4e0d6820",
   "metadata": {},
   "outputs": [],
   "source": [
    "result = employee.delete_one({\"Name\":{\"$regex\": \"^S\"}})"
   ]
  },
  {
   "cell_type": "code",
   "execution_count": 133,
   "id": "596d9b5d",
   "metadata": {},
   "outputs": [
    {
     "name": "stdout",
     "output_type": "stream",
     "text": [
      "{'_id': 2, 'name': 'Peter'}\n",
      "{'_id': 3, 'name': 'Amy'}\n",
      "{'_id': 4, 'name': 'Hannah'}\n",
      "{'_id': 5, 'name': 'Michael'}\n",
      "{'_id': 9, 'name': 'Viola'}\n"
     ]
    }
   ],
   "source": [
    "for emp in employee.find():\n",
    "    print(emp)"
   ]
  },
  {
   "cell_type": "code",
   "execution_count": 134,
   "id": "c3ac33c7",
   "metadata": {},
   "outputs": [
    {
     "name": "stdout",
     "output_type": "stream",
     "text": [
      "5 documents updated\n"
     ]
    }
   ],
   "source": [
    "result = employee.delete_many({})\n",
    "print(result.deleted_count, \"documents updated\")"
   ]
  },
  {
   "cell_type": "code",
   "execution_count": 136,
   "id": "dd896574",
   "metadata": {},
   "outputs": [],
   "source": [
    "for emp in employee.find():\n",
    "    print(emp)"
   ]
  },
  {
   "cell_type": "code",
   "execution_count": 139,
   "id": "edd10adb",
   "metadata": {},
   "outputs": [
    {
     "name": "stdout",
     "output_type": "stream",
     "text": [
      "['employee']\n"
     ]
    }
   ],
   "source": [
    "print(testdb.list_collection_names())"
   ]
  },
  {
   "cell_type": "code",
   "execution_count": 140,
   "id": "55594980",
   "metadata": {},
   "outputs": [],
   "source": [
    "employee.drop()"
   ]
  },
  {
   "cell_type": "code",
   "execution_count": 141,
   "id": "a35a899f",
   "metadata": {},
   "outputs": [
    {
     "name": "stdout",
     "output_type": "stream",
     "text": [
      "[]\n"
     ]
    }
   ],
   "source": [
    "print(testdb.list_collection_names())"
   ]
  },
  {
   "cell_type": "code",
   "execution_count": null,
   "id": "7fef011a",
   "metadata": {},
   "outputs": [],
   "source": []
  }
 ],
 "metadata": {
  "kernelspec": {
   "display_name": "Python 3 (ipykernel)",
   "language": "python",
   "name": "python3"
  },
  "language_info": {
   "codemirror_mode": {
    "name": "ipython",
    "version": 3
   },
   "file_extension": ".py",
   "mimetype": "text/x-python",
   "name": "python",
   "nbconvert_exporter": "python",
   "pygments_lexer": "ipython3",
   "version": "3.9.13"
  }
 },
 "nbformat": 4,
 "nbformat_minor": 5
}
