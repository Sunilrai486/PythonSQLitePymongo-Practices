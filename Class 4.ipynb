{
 "cells": [
  {
   "cell_type": "code",
   "execution_count": 1,
   "id": "afb79515",
   "metadata": {},
   "outputs": [],
   "source": [
    "# Importing sqltie\n",
    "import sqlite3"
   ]
  },
  {
   "cell_type": "code",
   "execution_count": 2,
   "id": "d64bdf2b",
   "metadata": {},
   "outputs": [],
   "source": [
    "# Creating the connection object.\n",
    "conn = sqlite3.connect('example.db')"
   ]
  },
  {
   "cell_type": "code",
   "execution_count": 3,
   "id": "1ccf7835",
   "metadata": {},
   "outputs": [],
   "source": [
    "# Creating cursor object to execute the sqlite3 statements.\n",
    "cursor = conn.cursor()"
   ]
  },
  {
   "cell_type": "code",
   "execution_count": 4,
   "id": "bce324be",
   "metadata": {},
   "outputs": [],
   "source": [
    "# Now we can use the cursor to call the execute() method to execute any SQL queries.\n",
    "sql = '''CREATE TABLE EMPLOYEE(\n",
    "    FIRST_NAME CHAR(20) NOT NULL,\n",
    "    LAST_NAME CHAR(20),\n",
    "    AGE INT NOT NULL,\n",
    "    SEX CHAR(1), \n",
    "    INCOME FLOAT\n",
    ")'''"
   ]
  },
  {
   "cell_type": "code",
   "execution_count": 5,
   "id": "a523bddc",
   "metadata": {},
   "outputs": [
    {
     "data": {
      "text/plain": [
       "<sqlite3.Cursor at 0x239cb9fd6c0>"
      ]
     },
     "execution_count": 5,
     "metadata": {},
     "output_type": "execute_result"
    }
   ],
   "source": [
    "# Create table using CREATE TABLE\n",
    "cursor.execute(sql)"
   ]
  },
  {
   "cell_type": "code",
   "execution_count": 6,
   "id": "a9e23977",
   "metadata": {},
   "outputs": [],
   "source": [
    "# Call commit to save changes to the database\n",
    "conn.commit()"
   ]
  },
  {
   "cell_type": "code",
   "execution_count": 7,
   "id": "fd24e81c",
   "metadata": {},
   "outputs": [
    {
     "name": "stdout",
     "output_type": "stream",
     "text": [
      "[(0, 'FIRST_NAME', 'CHAR(20)', 1, None, 0), (1, 'LAST_NAME', 'CHAR(20)', 0, None, 0), (2, 'AGE', 'INT', 1, None, 0), (3, 'SEX', 'CHAR(1)', 0, None, 0), (4, 'INCOME', 'FLOAT', 0, None, 0)]\n"
     ]
    }
   ],
   "source": [
    "# selecting the schema of the employee table\n",
    "data = cursor.execute('PRAGMA table_info(employee)')\n",
    "print(data.fetchall())"
   ]
  },
  {
   "cell_type": "code",
   "execution_count": 8,
   "id": "4e17bf6a",
   "metadata": {},
   "outputs": [],
   "source": [
    "# Insert employees data sent in an array into the employee table\n",
    "def insert_employee(employees):\n",
    "    print(employees)\n",
    "    sql = \"INSERT INTO EMPLOYEE(FIRST_NAME, LAST_NAME, AGE, SEX, INCOME) VALUES \"\n",
    "    for employee in employees:\n",
    "        print(employee)\n",
    "        sql = sql + \"('\" + employee[\"first_name\"] + \"','\" + employee[\"last_name\"]  + \"','\" + employee[\"age\"]  + \"','\" + employee[\"sex\"] + \"','\" + employee[\"income\"] + \"'),\"\n",
    "        print(sql)\n",
    "    sql = sql[:-1]\n",
    "    print(sql)\n",
    "    result = cursor.execute(sql)\n"
   ]
  },
  {
   "cell_type": "code",
   "execution_count": 9,
   "id": "aaf74e7b",
   "metadata": {},
   "outputs": [
    {
     "name": "stdout",
     "output_type": "stream",
     "text": [
      "[{'first_name': 'sunil', 'last_name': 'rai', 'age': '26', 'sex': 'M', 'income': '1000000'}, {'first_name': 'sabnam', 'last_name': 'rai', 'age': '25', 'sex': 'F', 'income': '100000'}, {'first_name': 'ujjawal', 'last_name': 'poudel', 'age': '27', 'sex': 'M', 'income': '1000000'}, {'first_name': 'Sarita', 'last_name': 'gurung', 'age': '24', 'sex': 'F', 'income': '100000'}]\n",
      "{'first_name': 'sunil', 'last_name': 'rai', 'age': '26', 'sex': 'M', 'income': '1000000'}\n",
      "INSERT INTO EMPLOYEE(FIRST_NAME, LAST_NAME, AGE, SEX, INCOME) VALUES ('sunil','rai','26','M','1000000'),\n",
      "{'first_name': 'sabnam', 'last_name': 'rai', 'age': '25', 'sex': 'F', 'income': '100000'}\n",
      "INSERT INTO EMPLOYEE(FIRST_NAME, LAST_NAME, AGE, SEX, INCOME) VALUES ('sunil','rai','26','M','1000000'),('sabnam','rai','25','F','100000'),\n",
      "{'first_name': 'ujjawal', 'last_name': 'poudel', 'age': '27', 'sex': 'M', 'income': '1000000'}\n",
      "INSERT INTO EMPLOYEE(FIRST_NAME, LAST_NAME, AGE, SEX, INCOME) VALUES ('sunil','rai','26','M','1000000'),('sabnam','rai','25','F','100000'),('ujjawal','poudel','27','M','1000000'),\n",
      "{'first_name': 'Sarita', 'last_name': 'gurung', 'age': '24', 'sex': 'F', 'income': '100000'}\n",
      "INSERT INTO EMPLOYEE(FIRST_NAME, LAST_NAME, AGE, SEX, INCOME) VALUES ('sunil','rai','26','M','1000000'),('sabnam','rai','25','F','100000'),('ujjawal','poudel','27','M','1000000'),('Sarita','gurung','24','F','100000'),\n",
      "INSERT INTO EMPLOYEE(FIRST_NAME, LAST_NAME, AGE, SEX, INCOME) VALUES ('sunil','rai','26','M','1000000'),('sabnam','rai','25','F','100000'),('ujjawal','poudel','27','M','1000000'),('Sarita','gurung','24','F','100000')\n"
     ]
    },
    {
     "data": {
      "text/plain": [
       "[(4, 4)]"
      ]
     },
     "execution_count": 9,
     "metadata": {},
     "output_type": "execute_result"
    }
   ],
   "source": [
    "# calling insert employee method to insert employee\n",
    "data = insert_employee([{\"first_name\":\"sunil\", \"last_name\":\"rai\", \"age\": \"26\", \"sex\": \"M\", \"income\": \"1000000\"}, {\"first_name\":\"sabnam\", \"last_name\":\"rai\", \"age\": \"25\", \"sex\": \"F\", \"income\": \"100000\"}, {\"first_name\":\"ujjawal\", \"last_name\":\"poudel\", \"age\": \"27\", \"sex\": \"M\", \"income\": \"1000000\"}, {\"first_name\":\"Sarita\", \"last_name\":\"gurung\", \"age\": \"24\", \"sex\": \"F\", \"income\": \"100000\"}])\n",
    "\n",
    "# gets all the affected rows and total affected rows.\n",
    "affectedrows = cursor.execute('select changes(),total_changes()')\n",
    "affectedrows.fetchall()"
   ]
  },
  {
   "cell_type": "code",
   "execution_count": 10,
   "id": "c0ac6adf",
   "metadata": {},
   "outputs": [],
   "source": [
    "#fetching employee data from employee table\n",
    "all_employee_data = cursor.execute('SELECT * FROM EMPLOYEE')"
   ]
  },
  {
   "cell_type": "code",
   "execution_count": 11,
   "id": "b0fa8836",
   "metadata": {},
   "outputs": [
    {
     "data": {
      "text/plain": [
       "('sunil', 'rai', 26, 'M', 1000000.0)"
      ]
     },
     "execution_count": 11,
     "metadata": {},
     "output_type": "execute_result"
    }
   ],
   "source": [
    "# retrieves an employee data from the table\n",
    "all_employee_data.fetchone()\n"
   ]
  },
  {
   "cell_type": "code",
   "execution_count": 12,
   "id": "e59177b5",
   "metadata": {},
   "outputs": [
    {
     "data": {
      "text/plain": [
       "('sabnam', 'rai', 25, 'F', 100000.0)"
      ]
     },
     "execution_count": 12,
     "metadata": {},
     "output_type": "execute_result"
    }
   ],
   "source": [
    "all_employee_data.fetchone()\n"
   ]
  },
  {
   "cell_type": "code",
   "execution_count": 13,
   "id": "47799617",
   "metadata": {},
   "outputs": [
    {
     "data": {
      "text/plain": [
       "[('ujjawal', 'poudel', 27, 'M', 1000000.0),\n",
       " ('Sarita', 'gurung', 24, 'F', 100000.0)]"
      ]
     },
     "execution_count": 13,
     "metadata": {},
     "output_type": "execute_result"
    }
   ],
   "source": [
    "#sets the limit while fetching data. default is 1.\n",
    "all_employee_data.fetchmany(5)"
   ]
  },
  {
   "cell_type": "code",
   "execution_count": 14,
   "id": "414a51cb",
   "metadata": {},
   "outputs": [
    {
     "data": {
      "text/plain": [
       "[]"
      ]
     },
     "execution_count": 14,
     "metadata": {},
     "output_type": "execute_result"
    }
   ],
   "source": [
    "# retrieves all the employee data from the table\n",
    "all_employee_data.fetchall()"
   ]
  },
  {
   "cell_type": "code",
   "execution_count": 15,
   "id": "f248354c",
   "metadata": {},
   "outputs": [
    {
     "data": {
      "text/plain": [
       "[('sabnam', 'rai', 25, 'F', 100000.0), ('Sarita', 'gurung', 24, 'F', 100000.0)]"
      ]
     },
     "execution_count": 15,
     "metadata": {},
     "output_type": "execute_result"
    }
   ],
   "source": [
    "#fetching female employee\n",
    "female_employee_data = cursor.execute(\"SELECT * FROM EMPLOYEE WHERE SEX = 'F'\")\n",
    "\n",
    "# retrieves all the female employee data from the table\n",
    "female_employee_data.fetchall()"
   ]
  },
  {
   "cell_type": "code",
   "execution_count": 16,
   "id": "3fd7a150",
   "metadata": {},
   "outputs": [
    {
     "data": {
      "text/plain": [
       "[('sunil', 'rai', 27, 'M', 1000000.0),\n",
       " ('ujjawal', 'poudel', 28, 'M', 1000000.0)]"
      ]
     },
     "execution_count": 16,
     "metadata": {},
     "output_type": "execute_result"
    }
   ],
   "source": [
    "# updates age by 1 more year in the current age of all male employee.\n",
    "male_employee_data = cursor.execute(\"UPDATE EMPLOYEE SET AGE = AGE + 1 WHERE SEX = 'M'\")\n",
    "\n",
    "# retrieves all the male employee data from the table\n",
    "male_employee_data = cursor.execute(\"SELECT * FROM EMPLOYEE WHERE SEX = 'M'\")\n",
    "male_employee_data.fetchall()"
   ]
  },
  {
   "cell_type": "code",
   "execution_count": 17,
   "id": "a406ef27",
   "metadata": {},
   "outputs": [
    {
     "data": {
      "text/plain": [
       "[('sunil', 'rai', 27, 'M', 1000000.0),\n",
       " ('sabnam', 'rai', 25, 'F', 100000.0),\n",
       " ('ujjawal', 'poudel', 28, 'M', 1000000.0),\n",
       " ('Sarita', 'gurung', 24, 'F', 100000.0)]"
      ]
     },
     "execution_count": 17,
     "metadata": {},
     "output_type": "execute_result"
    }
   ],
   "source": [
    "# delete employee whose age is greater than 115.\n",
    "cursor.execute(\"DELETE FROM EMPLOYEE WHERE AGE > 115\")\n",
    "\n",
    "\n",
    "# retrieves all the male employee data from the table\n",
    "employee_data = cursor.execute(\"SELECT * FROM EMPLOYEE\")\n",
    "employee_data.fetchall()"
   ]
  },
  {
   "cell_type": "code",
   "execution_count": 18,
   "id": "ed3499e6",
   "metadata": {},
   "outputs": [
    {
     "data": {
      "text/plain": [
       "[('sunil', 'rai', 'M', 1000000.0),\n",
       " ('sabnam', 'rai', 'F', 100000.0),\n",
       " ('ujjawal', 'poudel', 'M', 1000000.0),\n",
       " ('Sarita', 'gurung', 'F', 100000.0)]"
      ]
     },
     "execution_count": 18,
     "metadata": {},
     "output_type": "execute_result"
    }
   ],
   "source": [
    "# drop age column\n",
    "cursor.execute(\"ALTER TABLE EMPLOYEE DROP COLUMN AGE\")\n",
    "\n",
    "\n",
    "# retrieves all the male employee data from the table\n",
    "employee_data = cursor.execute(\"SELECT * FROM EMPLOYEE\")\n",
    "employee_data.fetchall()"
   ]
  },
  {
   "cell_type": "code",
   "execution_count": 19,
   "id": "a55b9c75",
   "metadata": {},
   "outputs": [],
   "source": [
    "# fetching the data from sql table into dataframe.\n",
    "import pandas as pd\n",
    "df = pd.read_sql('SELECT DISTINCT FIRST_NAME, LAST_NAME, SEX, INCOME FROM EMPLOYEE', conn)"
   ]
  },
  {
   "cell_type": "code",
   "execution_count": 20,
   "id": "196df45b",
   "metadata": {},
   "outputs": [
    {
     "data": {
      "text/html": [
       "<div>\n",
       "<style scoped>\n",
       "    .dataframe tbody tr th:only-of-type {\n",
       "        vertical-align: middle;\n",
       "    }\n",
       "\n",
       "    .dataframe tbody tr th {\n",
       "        vertical-align: top;\n",
       "    }\n",
       "\n",
       "    .dataframe thead th {\n",
       "        text-align: right;\n",
       "    }\n",
       "</style>\n",
       "<table border=\"1\" class=\"dataframe\">\n",
       "  <thead>\n",
       "    <tr style=\"text-align: right;\">\n",
       "      <th></th>\n",
       "      <th>FIRST_NAME</th>\n",
       "      <th>LAST_NAME</th>\n",
       "      <th>SEX</th>\n",
       "      <th>INCOME</th>\n",
       "    </tr>\n",
       "  </thead>\n",
       "  <tbody>\n",
       "    <tr>\n",
       "      <th>0</th>\n",
       "      <td>sunil</td>\n",
       "      <td>rai</td>\n",
       "      <td>M</td>\n",
       "      <td>1000000.0</td>\n",
       "    </tr>\n",
       "    <tr>\n",
       "      <th>1</th>\n",
       "      <td>sabnam</td>\n",
       "      <td>rai</td>\n",
       "      <td>F</td>\n",
       "      <td>100000.0</td>\n",
       "    </tr>\n",
       "    <tr>\n",
       "      <th>2</th>\n",
       "      <td>ujjawal</td>\n",
       "      <td>poudel</td>\n",
       "      <td>M</td>\n",
       "      <td>1000000.0</td>\n",
       "    </tr>\n",
       "    <tr>\n",
       "      <th>3</th>\n",
       "      <td>Sarita</td>\n",
       "      <td>gurung</td>\n",
       "      <td>F</td>\n",
       "      <td>100000.0</td>\n",
       "    </tr>\n",
       "  </tbody>\n",
       "</table>\n",
       "</div>"
      ],
      "text/plain": [
       "  FIRST_NAME LAST_NAME SEX     INCOME\n",
       "0      sunil       rai   M  1000000.0\n",
       "1     sabnam       rai   F   100000.0\n",
       "2    ujjawal    poudel   M  1000000.0\n",
       "3     Sarita    gurung   F   100000.0"
      ]
     },
     "execution_count": 20,
     "metadata": {},
     "output_type": "execute_result"
    }
   ],
   "source": [
    "df"
   ]
  },
  {
   "cell_type": "code",
   "execution_count": 22,
   "id": "46c8b7ca",
   "metadata": {},
   "outputs": [
    {
     "data": {
      "text/plain": [
       "<sqlite3.Cursor at 0x239cb9fd6c0>"
      ]
     },
     "execution_count": 22,
     "metadata": {},
     "output_type": "execute_result"
    }
   ],
   "source": [
    "# renaming table name to new name.\n",
    "sql = 'ALTER TABLE EMPLOYEE RENAME TO EMPLOYEES'\n",
    "cursor.execute(sql)"
   ]
  },
  {
   "cell_type": "code",
   "execution_count": 23,
   "id": "5c28c18d",
   "metadata": {},
   "outputs": [
    {
     "data": {
      "text/plain": [
       "[('sunil', 'rai', 'M', 1000000.0),\n",
       " ('sabnam', 'rai', 'F', 100000.0),\n",
       " ('ujjawal', 'poudel', 'M', 1000000.0),\n",
       " ('Sarita', 'gurung', 'F', 100000.0)]"
      ]
     },
     "execution_count": 23,
     "metadata": {},
     "output_type": "execute_result"
    }
   ],
   "source": [
    "# selecting all data from employees.\n",
    "employee_data = cursor.execute(\"SELECT * FROM EMPLOYEES\")\n",
    "employee_data.fetchall()"
   ]
  },
  {
   "cell_type": "code",
   "execution_count": 24,
   "id": "1642d689",
   "metadata": {},
   "outputs": [
    {
     "data": {
      "text/plain": [
       "<sqlite3.Cursor at 0x239cb9fd6c0>"
      ]
     },
     "execution_count": 24,
     "metadata": {},
     "output_type": "execute_result"
    }
   ],
   "source": [
    "# deleting male employees.\n",
    "cursor.execute(\"DELETE FROM EMPLOYEES WHERE SEX = 'M'\")"
   ]
  },
  {
   "cell_type": "code",
   "execution_count": 25,
   "id": "1528fb8a",
   "metadata": {},
   "outputs": [
    {
     "data": {
      "text/plain": [
       "[('sabnam', 'rai', 'F', 100000.0), ('Sarita', 'gurung', 'F', 100000.0)]"
      ]
     },
     "execution_count": 25,
     "metadata": {},
     "output_type": "execute_result"
    }
   ],
   "source": [
    "# selecting all data from employees.\n",
    "employee_data = cursor.execute(\"SELECT * FROM EMPLOYEES\")\n",
    "employee_data.fetchall()"
   ]
  },
  {
   "cell_type": "code",
   "execution_count": 26,
   "id": "cd9fbfd6",
   "metadata": {},
   "outputs": [
    {
     "data": {
      "text/plain": [
       "[('EMPLOYEES',)]"
      ]
     },
     "execution_count": 26,
     "metadata": {},
     "output_type": "execute_result"
    }
   ],
   "source": [
    "# selecting all table names from schema.\n",
    "table_data = cursor.execute(\"SELECT name FROM sqlite_schema WHERE type='table' ORDER BY name\")\n",
    "table_data.fetchall()"
   ]
  },
  {
   "cell_type": "code",
   "execution_count": 31,
   "id": "a878298f",
   "metadata": {},
   "outputs": [
    {
     "name": "stdout",
     "output_type": "stream",
     "text": [
      "[{'first_name': 'sunil', 'last_name': 'rai', 'sex': 'M', 'income': '1000000'}, {'first_name': 'ujjawal', 'last_name': 'poudel', 'sex': 'M', 'income': '1000000'}]\n",
      "{'first_name': 'sunil', 'last_name': 'rai', 'sex': 'M', 'income': '1000000'}\n",
      "INSERT INTO EMPLOYEES(FIRST_NAME, LAST_NAME, SEX, INCOME) VALUES ('sunil','rai','M','1000000'),\n",
      "{'first_name': 'ujjawal', 'last_name': 'poudel', 'sex': 'M', 'income': '1000000'}\n",
      "INSERT INTO EMPLOYEES(FIRST_NAME, LAST_NAME, SEX, INCOME) VALUES ('sunil','rai','M','1000000'),('ujjawal','poudel','M','1000000'),\n",
      "INSERT INTO EMPLOYEES(FIRST_NAME, LAST_NAME, SEX, INCOME) VALUES ('sunil','rai','M','1000000'),('ujjawal','poudel','M','1000000')\n"
     ]
    },
    {
     "data": {
      "text/plain": [
       "[(2, 10)]"
      ]
     },
     "execution_count": 31,
     "metadata": {},
     "output_type": "execute_result"
    }
   ],
   "source": [
    "# Insert employees data sent in an array into the employees table\n",
    "def insert_employees(employees):\n",
    "    print(employees)\n",
    "    sql = \"INSERT INTO EMPLOYEES(FIRST_NAME, LAST_NAME, SEX, INCOME) VALUES \"\n",
    "    for employee in employees:\n",
    "        print(employee)\n",
    "        sql = sql + \"('\" + employee[\"first_name\"] + \"','\" + employee[\"last_name\"] + \"','\" + employee[\"sex\"] + \"','\" + employee[\"income\"] + \"'),\"\n",
    "        print(sql)\n",
    "    sql = sql[:-1]\n",
    "    print(sql)\n",
    "    result = cursor.execute(sql)\n",
    "\n",
    "# calling insert employee method to insert employees\n",
    "data = insert_employees([{\"first_name\":\"sunil\", \"last_name\":\"rai\", \"sex\": \"M\", \"income\": \"1000000\"}, {\"first_name\":\"ujjawal\", \"last_name\":\"poudel\", \"sex\": \"M\", \"income\": \"1000000\"}])\n",
    "\n",
    "# calling insert employee method to insert employees\n",
    "data = insert_employees([{\"first_name\":\"ram\", \"last_name\":\"rai\", \"sex\": \"M\", \"income\": \"100000\"}])"
   ]
  },
  {
   "cell_type": "code",
   "execution_count": 34,
   "id": "de0de52d",
   "metadata": {},
   "outputs": [
    {
     "data": {
      "text/plain": [
       "[('Sarita', 'gurung', 'F', 100000.0), ('ram', 'rai', 'M', 100000.0)]"
      ]
     },
     "execution_count": 34,
     "metadata": {},
     "output_type": "execute_result"
    }
   ],
   "source": [
    "# selecting all employee whoose firstname contains r.\n",
    "employee_data = cursor.execute(\"SELECT * FROM EMPLOYEES WHERE FIRST_NAME LIKE '%R%'\")\n",
    "employee_data.fetchall()"
   ]
  },
  {
   "cell_type": "code",
   "execution_count": 35,
   "id": "54502ba3",
   "metadata": {},
   "outputs": [
    {
     "data": {
      "text/plain": [
       "<sqlite3.Cursor at 0x239cb9fd6c0>"
      ]
     },
     "execution_count": 35,
     "metadata": {},
     "output_type": "execute_result"
    }
   ],
   "source": [
    "# dropping table employee.\n",
    "cursor.execute(\"DROP TABLE EMPLOYEES\")"
   ]
  },
  {
   "cell_type": "code",
   "execution_count": 36,
   "id": "4122fb85",
   "metadata": {},
   "outputs": [
    {
     "data": {
      "text/plain": [
       "[]"
      ]
     },
     "execution_count": 36,
     "metadata": {},
     "output_type": "execute_result"
    }
   ],
   "source": [
    "# selecting all table names from schema.\n",
    "table_data = cursor.execute(\"SELECT name FROM sqlite_schema WHERE type='table' ORDER BY name\")\n",
    "table_data.fetchall()"
   ]
  },
  {
   "cell_type": "code",
   "execution_count": 196,
   "id": "bdef9d94",
   "metadata": {},
   "outputs": [],
   "source": [
    "# importing pymongo\n",
    "import pymongo"
   ]
  },
  {
   "cell_type": "code",
   "execution_count": 197,
   "id": "754f25ad",
   "metadata": {},
   "outputs": [],
   "source": [
    "# importing MongoClient\n",
    "from pymongo import MongoClient"
   ]
  },
  {
   "cell_type": "code",
   "execution_count": 198,
   "id": "3bf33cee",
   "metadata": {},
   "outputs": [],
   "source": [
    "# initializing MongoClient()\n",
    "client = MongoClient()"
   ]
  },
  {
   "cell_type": "code",
   "execution_count": 199,
   "id": "4549cad8",
   "metadata": {},
   "outputs": [],
   "source": [
    "# creating test database\n",
    "db = client.test"
   ]
  },
  {
   "cell_type": "code",
   "execution_count": 200,
   "id": "88d36703",
   "metadata": {},
   "outputs": [],
   "source": [
    "#creating employee collection.\n",
    "employee = db.employee"
   ]
  },
  {
   "cell_type": "code",
   "execution_count": 201,
   "id": "e38f2e0c",
   "metadata": {},
   "outputs": [
    {
     "data": {
      "text/plain": [
       "Collection(Database(MongoClient(host=['localhost:27017'], document_class=dict, tz_aware=False, connect=True), 'test'), 'employee')"
      ]
     },
     "execution_count": 201,
     "metadata": {},
     "output_type": "execute_result"
    }
   ],
   "source": [
    "employee"
   ]
  },
  {
   "cell_type": "code",
   "execution_count": 202,
   "id": "3e5b327d",
   "metadata": {},
   "outputs": [
    {
     "name": "stdout",
     "output_type": "stream",
     "text": [
      "64769642d2772f2cc7b32233\n"
     ]
    }
   ],
   "source": [
    "# inserting employee details into employee collection.\n",
    "employee_details = {\n",
    "    'Name' : 'Sunil Rai',\n",
    "    'Address' : 'Scarborough',\n",
    "    'Age' : '11'\n",
    "}\n",
    "result = employee.insert_one(employee_details)\n",
    "print(result.inserted_id)"
   ]
  },
  {
   "cell_type": "code",
   "execution_count": 203,
   "id": "1d9d5e9e",
   "metadata": {},
   "outputs": [],
   "source": [
    " #db.employee.drop()"
   ]
  },
  {
   "cell_type": "code",
   "execution_count": 204,
   "id": "24f64679",
   "metadata": {},
   "outputs": [],
   "source": [
    "# creating list of employees\n",
    "mylist = [{\"_id\":1,\"name\":\"John\",\"address\":\"Highway 37\"},\n",
    "          {\"_id\":2,\"name\":\"Peter\",\"address\":\"Lowstreet 27\"},\n",
    "          {\"_id\":3,\"name\":\"Amy\",\"address\":\"Close st 652\"},\n",
    "          {\"_id\":4,\"name\":\"Hannah\",\"address\":\"Mountain 21\"},\n",
    "          {\"_id\":5,\"name\":\"Michael\",\"address\":\"Valley 345\"},\n",
    "          {\"_id\":6,\"name\": \"Vicky\", \"address\": \"Yellow Garden 124\"},\n",
    "          {\"_id\":7,\"name\": \"Nicky\", \"address\": \"Yellow Garden 23\"},\n",
    "          {\"_id\":8,\"name\": \"Nancy\", \"address\": \"Younge Ave. 123\"},\n",
    "          {\"_id\":9,\"name\": \"Viola\", \"address\": \"Sideway Ave\"},\n",
    "         {\"_id\":10,\"name\":\"Johny\",\"address\":\"Highway 37\"},\n",
    "         {\"_id\":11,\"name\":\"Johna\",\"address\":\"Highway 37\"},\n",
    "         {\"_id\":12,\"name\":\"Johne\",\"address\":\"Highway 37\"}]\n"
   ]
  },
  {
   "cell_type": "code",
   "execution_count": 205,
   "id": "935f6ba0",
   "metadata": {},
   "outputs": [],
   "source": [
    "# inserting employees into the collection.\n",
    "result = employee.insert_many(mylist)"
   ]
  },
  {
   "cell_type": "code",
   "execution_count": 206,
   "id": "9ef18fee",
   "metadata": {},
   "outputs": [
    {
     "name": "stdout",
     "output_type": "stream",
     "text": [
      "['admin', 'config', 'local', 'test']\n"
     ]
    }
   ],
   "source": [
    "# printing all the database names.\n",
    "print(client.list_database_names())"
   ]
  },
  {
   "cell_type": "code",
   "execution_count": 207,
   "id": "f4cd61fc",
   "metadata": {},
   "outputs": [
    {
     "name": "stdout",
     "output_type": "stream",
     "text": [
      "The 'test' exists\n"
     ]
    }
   ],
   "source": [
    "# checking if test db is in the list\n",
    "dblist = client.list_database_names()\n",
    "if \"test\" in dblist:\n",
    "    print(\"The '{}' exists\".format('test'))"
   ]
  },
  {
   "cell_type": "code",
   "execution_count": 208,
   "id": "86bf2173",
   "metadata": {},
   "outputs": [
    {
     "name": "stdout",
     "output_type": "stream",
     "text": [
      "['employee']\n"
     ]
    }
   ],
   "source": [
    "# printing collection names\n",
    "print(db.list_collection_names())"
   ]
  },
  {
   "cell_type": "code",
   "execution_count": 209,
   "id": "f409b7b0",
   "metadata": {},
   "outputs": [
    {
     "name": "stdout",
     "output_type": "stream",
     "text": [
      "The employee collection exists.\n"
     ]
    }
   ],
   "source": [
    "collist = db.list_collection_names()\n",
    "if \"employee\" in collist:\n",
    "    print(\"The employee collection exists.\")"
   ]
  },
  {
   "cell_type": "code",
   "execution_count": 210,
   "id": "a28ac195",
   "metadata": {},
   "outputs": [
    {
     "name": "stdout",
     "output_type": "stream",
     "text": [
      "{'_id': ObjectId('64769642d2772f2cc7b32233'), 'Name': 'Sunil Rai', 'Address': 'Scarborough', 'Age': '11'}\n",
      "{'_id': 1, 'name': 'John', 'address': 'Highway 37'}\n",
      "{'_id': 2, 'name': 'Peter', 'address': 'Lowstreet 27'}\n",
      "{'_id': 3, 'name': 'Amy', 'address': 'Close st 652'}\n",
      "{'_id': 4, 'name': 'Hannah', 'address': 'Mountain 21'}\n",
      "{'_id': 5, 'name': 'Michael', 'address': 'Valley 345'}\n",
      "{'_id': 6, 'name': 'Vicky', 'address': 'Yellow Garden 124'}\n",
      "{'_id': 7, 'name': 'Nicky', 'address': 'Yellow Garden 23'}\n",
      "{'_id': 8, 'name': 'Nancy', 'address': 'Younge Ave. 123'}\n",
      "{'_id': 9, 'name': 'Viola', 'address': 'Sideway Ave'}\n",
      "{'_id': 10, 'name': 'Johny', 'address': 'Highway 37'}\n",
      "{'_id': 11, 'name': 'Johna', 'address': 'Highway 37'}\n",
      "{'_id': 12, 'name': 'Johne', 'address': 'Highway 37'}\n"
     ]
    }
   ],
   "source": [
    "# looping through all the employees and printing them.\n",
    "for emp in employee.find():\n",
    "    print(emp)"
   ]
  },
  {
   "cell_type": "code",
   "execution_count": 211,
   "id": "8056cd2d",
   "metadata": {},
   "outputs": [
    {
     "name": "stdout",
     "output_type": "stream",
     "text": [
      "{'_id': ObjectId('64769642d2772f2cc7b32233'), 'Name': 'Sunil Rai', 'Address': 'Scarborough', 'Age': '11'}\n",
      "{'_id': 1, 'name': 'John', 'address': 'Highway 37'}\n",
      "{'_id': 2, 'name': 'Peter', 'address': 'Lowstreet 27'}\n",
      "{'_id': 3, 'name': 'Amy', 'address': 'Close st 652'}\n",
      "{'_id': 4, 'name': 'Hannah', 'address': 'Mountain 21'}\n"
     ]
    }
   ],
   "source": [
    "# fetching first five record.\n",
    "myresult = employee.find().limit(5)\n",
    "\n",
    "for emp in myresult:\n",
    "    print(emp)"
   ]
  },
  {
   "cell_type": "code",
   "execution_count": 212,
   "id": "43bd0e9e",
   "metadata": {},
   "outputs": [
    {
     "name": "stdout",
     "output_type": "stream",
     "text": [
      "{'_id': ObjectId('64769642d2772f2cc7b32233'), 'Name': 'Sunil Rai', 'Address': 'Scarborough', 'Age': '11'}\n",
      "{'_id': 1, 'name': 'John', 'address': 'Highway 37'}\n",
      "{'_id': 2, 'name': 'Peter', 'address': 'Lowstreet 27'}\n",
      "{'_id': 3, 'name': 'Amy', 'address': 'Close st 652'}\n",
      "{'_id': 4, 'name': 'Hannah', 'address': 'Mountain 21'}\n"
     ]
    }
   ],
   "source": [
    "# fetching first five record.\n",
    "myresult = employee.find()[0:5]\n",
    "for emp in myresult:\n",
    "    print(emp)"
   ]
  },
  {
   "cell_type": "code",
   "execution_count": 213,
   "id": "f4943721",
   "metadata": {},
   "outputs": [
    {
     "name": "stdout",
     "output_type": "stream",
     "text": [
      "{'Name': 'Sunil Rai', 'Address': 'Scarborough'}\n",
      "{'name': 'John', 'address': 'Highway 37'}\n",
      "{'name': 'Peter', 'address': 'Lowstreet 27'}\n",
      "{'name': 'Amy', 'address': 'Close st 652'}\n",
      "{'name': 'Hannah', 'address': 'Mountain 21'}\n",
      "{'name': 'Michael', 'address': 'Valley 345'}\n",
      "{'name': 'Vicky', 'address': 'Yellow Garden 124'}\n",
      "{'name': 'Nicky', 'address': 'Yellow Garden 23'}\n",
      "{'name': 'Nancy', 'address': 'Younge Ave. 123'}\n",
      "{'name': 'Viola', 'address': 'Sideway Ave'}\n",
      "{'name': 'Johny', 'address': 'Highway 37'}\n",
      "{'name': 'Johna', 'address': 'Highway 37'}\n",
      "{'name': 'Johne', 'address': 'Highway 37'}\n"
     ]
    }
   ],
   "source": [
    "# fetching only the name and address of the employee\n",
    "for emp in employee.find({}, {\"_id\": 0, \"name\": 1, \"Name\": 1, \"Address\": 1, \"address\": 1}):\n",
    "    print(emp)"
   ]
  },
  {
   "cell_type": "code",
   "execution_count": 215,
   "id": "a18fc77b",
   "metadata": {},
   "outputs": [
    {
     "name": "stdout",
     "output_type": "stream",
     "text": [
      "{'_id': 1, 'name': 'John', 'address': 'Highway 37'}\n",
      "{'_id': 10, 'name': 'Johny', 'address': 'Highway 37'}\n",
      "{'_id': 11, 'name': 'Johna', 'address': 'Highway 37'}\n",
      "{'_id': 12, 'name': 'Johne', 'address': 'Highway 37'}\n"
     ]
    }
   ],
   "source": [
    "# mongodb query to fetch all records that contains Highway 37 in address.\n",
    "myquery = {\"address\": \"Highway 37\"}\n",
    "\n",
    "mydoc = employee.find(myquery)\n",
    "\n",
    "for x in mydoc:\n",
    "    print(x)"
   ]
  },
  {
   "cell_type": "code",
   "execution_count": 229,
   "id": "7e4c553f",
   "metadata": {},
   "outputs": [
    {
     "name": "stdout",
     "output_type": "stream",
     "text": [
      "{'_id': 1, 'name': 'John', 'address': 'Highway 37'}\n",
      "{'_id': 10, 'name': 'Johny', 'address': 'Highway 37'}\n"
     ]
    }
   ],
   "source": [
    "# mongodb query to fetch 2 last records that contains Highway 37 in address.\n",
    "myquery = {\"address\": \"Highway 37\"}\n",
    "\n",
    "mydoc = employee.find(myquery).limit(2).sort(\"_id\", -1)\n",
    "\n",
    "for x in mydoc:\n",
    "    print(x)"
   ]
  },
  {
   "cell_type": "code",
   "execution_count": 231,
   "id": "1a9d94bf",
   "metadata": {},
   "outputs": [
    {
     "name": "stdout",
     "output_type": "stream",
     "text": [
      "{'_id': 12, 'name': 'Johne', 'address': 'Highway 37'}\n",
      "{'_id': 11, 'name': 'Johna', 'address': 'Highway 37'}\n"
     ]
    }
   ],
   "source": [
    "# mongodb query to fetch 2 last records that contains Highway 37 in address.\n",
    "myquery = {\"address\": \"Highway 37\"}\n",
    "\n",
    "mydoc = employee.find(myquery)[0:2].sort(\"_id\", -1)\n",
    "\n",
    "for x in mydoc:\n",
    "    print(x)"
   ]
  },
  {
   "cell_type": "code",
   "execution_count": 236,
   "id": "2db85976",
   "metadata": {},
   "outputs": [
    {
     "name": "stdout",
     "output_type": "stream",
     "text": [
      "{'_id': 5, 'name': 'Michael', 'address': 'Valley 345'}\n"
     ]
    }
   ],
   "source": [
    "# mongodb query to fetch all records that contains V in address.\n",
    "myquery = {\"address\": {\"$regex\": \"^V\"}}\n",
    "\n",
    "mydoc = employee.find(myquery)\n",
    "\n",
    "for x in mydoc:\n",
    "    print(x)"
   ]
  },
  {
   "cell_type": "code",
   "execution_count": 240,
   "id": "c7ed2e4b",
   "metadata": {},
   "outputs": [
    {
     "name": "stdout",
     "output_type": "stream",
     "text": [
      "{'_id': 3, 'name': 'Amy', 'address': 'Close st 652'}\n",
      "{'_id': 5, 'name': 'Michael', 'address': 'Valley 345'}\n"
     ]
    }
   ],
   "source": [
    "# mongodb query to fetch all records that contains l in address.\n",
    "myquery = {\"address\": {\"$regex\": \"l\"}}\n",
    "\n",
    "mydoc = employee.find(myquery).limit(2)\n",
    "\n",
    "for x in mydoc:\n",
    "    print(x)"
   ]
  },
  {
   "cell_type": "code",
   "execution_count": null,
   "id": "386bd432",
   "metadata": {},
   "outputs": [],
   "source": []
  }
 ],
 "metadata": {
  "kernelspec": {
   "display_name": "Python 3 (ipykernel)",
   "language": "python",
   "name": "python3"
  },
  "language_info": {
   "codemirror_mode": {
    "name": "ipython",
    "version": 3
   },
   "file_extension": ".py",
   "mimetype": "text/x-python",
   "name": "python",
   "nbconvert_exporter": "python",
   "pygments_lexer": "ipython3",
   "version": "3.9.13"
  }
 },
 "nbformat": 4,
 "nbformat_minor": 5
}
